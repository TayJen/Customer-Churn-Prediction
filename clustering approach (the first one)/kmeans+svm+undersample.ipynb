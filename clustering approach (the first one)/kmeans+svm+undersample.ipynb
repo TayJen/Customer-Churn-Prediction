{
 "cells": [
  {
   "cell_type": "markdown",
   "metadata": {},
   "source": [
    "In this approach we will make almost everything the same as in kmeans+svm\n",
    "\n",
    "Except for the fact that we will undersample our data, so there will be no class imbalance"
   ]
  },
  {
   "cell_type": "code",
   "execution_count": 1,
   "metadata": {},
   "outputs": [],
   "source": [
    "import pandas as pd\n",
    "import numpy as np\n",
    "import matplotlib.pyplot as plt\n",
    "import seaborn as sns\n",
    "\n",
    "from sklearn.model_selection import train_test_split\n",
    "from sklearn.preprocessing import StandardScaler\n",
    "from sklearn.cluster import KMeans\n",
    "from sklearn.svm import SVC\n",
    "\n",
    "%matplotlib inline\n",
    "np.random.seed(59)\n",
    "\n",
    "# set the max columns to none\n",
    "pd.set_option('display.max_columns', None)"
   ]
  },
  {
   "cell_type": "code",
   "execution_count": 2,
   "metadata": {},
   "outputs": [
    {
     "data": {
      "text/html": [
       "<div>\n",
       "<style scoped>\n",
       "    .dataframe tbody tr th:only-of-type {\n",
       "        vertical-align: middle;\n",
       "    }\n",
       "\n",
       "    .dataframe tbody tr th {\n",
       "        vertical-align: top;\n",
       "    }\n",
       "\n",
       "    .dataframe thead th {\n",
       "        text-align: right;\n",
       "    }\n",
       "</style>\n",
       "<table border=\"1\" class=\"dataframe\">\n",
       "  <thead>\n",
       "    <tr style=\"text-align: right;\">\n",
       "      <th></th>\n",
       "      <th>account_length</th>\n",
       "      <th>international_plan</th>\n",
       "      <th>voice_mail_plan</th>\n",
       "      <th>number_vmail_messages</th>\n",
       "      <th>total_intl_minutes</th>\n",
       "      <th>total_intl_calls</th>\n",
       "      <th>total_intl_charge</th>\n",
       "      <th>number_customer_service_calls</th>\n",
       "      <th>churn</th>\n",
       "      <th>total_minutes</th>\n",
       "      <th>total_calls</th>\n",
       "      <th>total_charge</th>\n",
       "      <th>area_code_area_code_408</th>\n",
       "      <th>area_code_area_code_415</th>\n",
       "      <th>area_code_area_code_510</th>\n",
       "      <th>state_MD</th>\n",
       "      <th>state_MN</th>\n",
       "      <th>state_NJ</th>\n",
       "      <th>state_TX</th>\n",
       "      <th>state_WV</th>\n",
       "      <th>state_other</th>\n",
       "      <th>avg_mt_minutes</th>\n",
       "      <th>avg_mt_calls</th>\n",
       "      <th>avg_mt_charge</th>\n",
       "      <th>avg_call_charge</th>\n",
       "      <th>avg_intl_call_charge</th>\n",
       "      <th>avg_call_minutes</th>\n",
       "      <th>avg_intl_call_minutes</th>\n",
       "      <th>both_plans</th>\n",
       "    </tr>\n",
       "  </thead>\n",
       "  <tbody>\n",
       "    <tr>\n",
       "      <th>0</th>\n",
       "      <td>107</td>\n",
       "      <td>0</td>\n",
       "      <td>1</td>\n",
       "      <td>26</td>\n",
       "      <td>13.7</td>\n",
       "      <td>3</td>\n",
       "      <td>3.70</td>\n",
       "      <td>1</td>\n",
       "      <td>0</td>\n",
       "      <td>611.5</td>\n",
       "      <td>329</td>\n",
       "      <td>55.54</td>\n",
       "      <td>0</td>\n",
       "      <td>1</td>\n",
       "      <td>0</td>\n",
       "      <td>0</td>\n",
       "      <td>0</td>\n",
       "      <td>0</td>\n",
       "      <td>0</td>\n",
       "      <td>0</td>\n",
       "      <td>1</td>\n",
       "      <td>5.714953</td>\n",
       "      <td>3.074766</td>\n",
       "      <td>0.519065</td>\n",
       "      <td>0.168815</td>\n",
       "      <td>1.233333</td>\n",
       "      <td>1.858663</td>\n",
       "      <td>4.566667</td>\n",
       "      <td>0</td>\n",
       "    </tr>\n",
       "    <tr>\n",
       "      <th>1</th>\n",
       "      <td>137</td>\n",
       "      <td>0</td>\n",
       "      <td>0</td>\n",
       "      <td>0</td>\n",
       "      <td>12.2</td>\n",
       "      <td>5</td>\n",
       "      <td>3.29</td>\n",
       "      <td>0</td>\n",
       "      <td>0</td>\n",
       "      <td>527.2</td>\n",
       "      <td>328</td>\n",
       "      <td>59.00</td>\n",
       "      <td>0</td>\n",
       "      <td>1</td>\n",
       "      <td>0</td>\n",
       "      <td>0</td>\n",
       "      <td>0</td>\n",
       "      <td>1</td>\n",
       "      <td>0</td>\n",
       "      <td>0</td>\n",
       "      <td>0</td>\n",
       "      <td>3.848175</td>\n",
       "      <td>2.394161</td>\n",
       "      <td>0.430657</td>\n",
       "      <td>0.179878</td>\n",
       "      <td>0.658000</td>\n",
       "      <td>1.607317</td>\n",
       "      <td>2.440000</td>\n",
       "      <td>0</td>\n",
       "    </tr>\n",
       "    <tr>\n",
       "      <th>2</th>\n",
       "      <td>84</td>\n",
       "      <td>1</td>\n",
       "      <td>0</td>\n",
       "      <td>0</td>\n",
       "      <td>6.6</td>\n",
       "      <td>7</td>\n",
       "      <td>1.78</td>\n",
       "      <td>2</td>\n",
       "      <td>0</td>\n",
       "      <td>558.2</td>\n",
       "      <td>248</td>\n",
       "      <td>65.02</td>\n",
       "      <td>1</td>\n",
       "      <td>0</td>\n",
       "      <td>0</td>\n",
       "      <td>0</td>\n",
       "      <td>0</td>\n",
       "      <td>0</td>\n",
       "      <td>0</td>\n",
       "      <td>0</td>\n",
       "      <td>1</td>\n",
       "      <td>6.645238</td>\n",
       "      <td>2.952381</td>\n",
       "      <td>0.774048</td>\n",
       "      <td>0.262177</td>\n",
       "      <td>0.254286</td>\n",
       "      <td>2.250806</td>\n",
       "      <td>0.942857</td>\n",
       "      <td>0</td>\n",
       "    </tr>\n",
       "    <tr>\n",
       "      <th>3</th>\n",
       "      <td>75</td>\n",
       "      <td>1</td>\n",
       "      <td>0</td>\n",
       "      <td>0</td>\n",
       "      <td>10.1</td>\n",
       "      <td>3</td>\n",
       "      <td>2.73</td>\n",
       "      <td>3</td>\n",
       "      <td>0</td>\n",
       "      <td>501.9</td>\n",
       "      <td>356</td>\n",
       "      <td>49.36</td>\n",
       "      <td>0</td>\n",
       "      <td>1</td>\n",
       "      <td>0</td>\n",
       "      <td>0</td>\n",
       "      <td>0</td>\n",
       "      <td>0</td>\n",
       "      <td>0</td>\n",
       "      <td>0</td>\n",
       "      <td>1</td>\n",
       "      <td>6.692000</td>\n",
       "      <td>4.746667</td>\n",
       "      <td>0.658133</td>\n",
       "      <td>0.138652</td>\n",
       "      <td>0.910000</td>\n",
       "      <td>1.409831</td>\n",
       "      <td>3.366667</td>\n",
       "      <td>0</td>\n",
       "    </tr>\n",
       "    <tr>\n",
       "      <th>4</th>\n",
       "      <td>121</td>\n",
       "      <td>0</td>\n",
       "      <td>1</td>\n",
       "      <td>24</td>\n",
       "      <td>7.5</td>\n",
       "      <td>7</td>\n",
       "      <td>2.03</td>\n",
       "      <td>3</td>\n",
       "      <td>0</td>\n",
       "      <td>779.3</td>\n",
       "      <td>314</td>\n",
       "      <td>76.28</td>\n",
       "      <td>0</td>\n",
       "      <td>0</td>\n",
       "      <td>1</td>\n",
       "      <td>0</td>\n",
       "      <td>0</td>\n",
       "      <td>0</td>\n",
       "      <td>0</td>\n",
       "      <td>0</td>\n",
       "      <td>1</td>\n",
       "      <td>6.440496</td>\n",
       "      <td>2.595041</td>\n",
       "      <td>0.630413</td>\n",
       "      <td>0.242930</td>\n",
       "      <td>0.290000</td>\n",
       "      <td>2.481847</td>\n",
       "      <td>1.071429</td>\n",
       "      <td>0</td>\n",
       "    </tr>\n",
       "  </tbody>\n",
       "</table>\n",
       "</div>"
      ],
      "text/plain": [
       "   account_length  international_plan  voice_mail_plan  number_vmail_messages  \\\n",
       "0             107                   0                1                     26   \n",
       "1             137                   0                0                      0   \n",
       "2              84                   1                0                      0   \n",
       "3              75                   1                0                      0   \n",
       "4             121                   0                1                     24   \n",
       "\n",
       "   total_intl_minutes  total_intl_calls  total_intl_charge  \\\n",
       "0                13.7                 3               3.70   \n",
       "1                12.2                 5               3.29   \n",
       "2                 6.6                 7               1.78   \n",
       "3                10.1                 3               2.73   \n",
       "4                 7.5                 7               2.03   \n",
       "\n",
       "   number_customer_service_calls  churn  total_minutes  total_calls  \\\n",
       "0                              1      0          611.5          329   \n",
       "1                              0      0          527.2          328   \n",
       "2                              2      0          558.2          248   \n",
       "3                              3      0          501.9          356   \n",
       "4                              3      0          779.3          314   \n",
       "\n",
       "   total_charge  area_code_area_code_408  area_code_area_code_415  \\\n",
       "0         55.54                        0                        1   \n",
       "1         59.00                        0                        1   \n",
       "2         65.02                        1                        0   \n",
       "3         49.36                        0                        1   \n",
       "4         76.28                        0                        0   \n",
       "\n",
       "   area_code_area_code_510  state_MD  state_MN  state_NJ  state_TX  state_WV  \\\n",
       "0                        0         0         0         0         0         0   \n",
       "1                        0         0         0         1         0         0   \n",
       "2                        0         0         0         0         0         0   \n",
       "3                        0         0         0         0         0         0   \n",
       "4                        1         0         0         0         0         0   \n",
       "\n",
       "   state_other  avg_mt_minutes  avg_mt_calls  avg_mt_charge  avg_call_charge  \\\n",
       "0            1        5.714953      3.074766       0.519065         0.168815   \n",
       "1            0        3.848175      2.394161       0.430657         0.179878   \n",
       "2            1        6.645238      2.952381       0.774048         0.262177   \n",
       "3            1        6.692000      4.746667       0.658133         0.138652   \n",
       "4            1        6.440496      2.595041       0.630413         0.242930   \n",
       "\n",
       "   avg_intl_call_charge  avg_call_minutes  avg_intl_call_minutes  both_plans  \n",
       "0              1.233333          1.858663               4.566667           0  \n",
       "1              0.658000          1.607317               2.440000           0  \n",
       "2              0.254286          2.250806               0.942857           0  \n",
       "3              0.910000          1.409831               3.366667           0  \n",
       "4              0.290000          2.481847               1.071429           0  "
      ]
     },
     "execution_count": 2,
     "metadata": {},
     "output_type": "execute_result"
    }
   ],
   "source": [
    "train_path = 'D:\\\\machine learning\\\\ml projects\\\\Main Pet Project for May-June 2022\\\\Customer Churn Prediction\\\\featured_data\\\\train.csv'\n",
    "\n",
    "df = pd.read_csv(train_path)\n",
    "df.head()"
   ]
  },
  {
   "cell_type": "code",
   "execution_count": 3,
   "metadata": {},
   "outputs": [],
   "source": [
    "# smth = df.sample(frac=5, random_state=59)\n",
    "# print(smth)"
   ]
  },
  {
   "cell_type": "code",
   "execution_count": 4,
   "metadata": {},
   "outputs": [],
   "source": [
    "# Shuffle the Dataset\n",
    "shuffled_df = df.sample(frac=1, random_state=59)\n",
    "\n",
    "# Put all the fraud class in a separate dataset\n",
    "churn_df = shuffled_df.loc[shuffled_df['churn'] == 1]\n",
    "\n",
    "#Randomly select 492 observations from the non-fraud (majority class)\n",
    "non_churn_df = shuffled_df.loc[shuffled_df['churn'] == 0].sample(n=churn_df.shape[0], random_state=59)\n",
    "\n",
    "# Concatenate both dataframes again\n",
    "normalized_df = pd.concat([churn_df, non_churn_df])"
   ]
  },
  {
   "cell_type": "code",
   "execution_count": 5,
   "metadata": {},
   "outputs": [
    {
     "data": {
      "image/png": "[encoded data removed]",
      "text/plain": [
       "<Figure size 576x576 with 1 Axes>"
      ]
     },
     "metadata": {
      "needs_background": "light"
     },
     "output_type": "display_data"
    }
   ],
   "source": [
    "# Plot the dataset after the undersampling\n",
    "plt.figure(figsize=(8, 8))\n",
    "sns.set_style('white')\n",
    "sns.countplot(x='churn', data=normalized_df)\n",
    "plt.title('Balanced Classes')\n",
    "plt.show()"
   ]
  },
  {
   "cell_type": "code",
   "execution_count": 6,
   "metadata": {},
   "outputs": [],
   "source": [
    "X = normalized_df.drop('churn', axis=1)\n",
    "y = normalized_df['churn']\n",
    "\n",
    "X_train, X_val, y_train, y_val = train_test_split(X, y, test_size=0.2,\n",
    "                                                  random_state=59)"
   ]
  },
  {
   "cell_type": "code",
   "execution_count": 7,
   "metadata": {},
   "outputs": [],
   "source": [
    "st_scaler = StandardScaler()\n",
    "\n",
    "X_train_st = st_scaler.fit_transform(X_train)\n",
    "X_val_st = st_scaler.transform(X_val)"
   ]
  },
  {
   "cell_type": "code",
   "execution_count": 8,
   "metadata": {},
   "outputs": [],
   "source": [
    "km_list = list()\n",
    "\n",
    "for i in range(1, 30):\n",
    "    km = KMeans(n_clusters=i, init='k-means++', max_iter=300, n_init=10, random_state=59)\n",
    "    km = km.fit(X_train_st)\n",
    "    \n",
    "    km_list.append(pd.Series({'clusters': i, \n",
    "                              'inertia': km.inertia_,\n",
    "                              'model': km}))"
   ]
  },
  {
   "cell_type": "code",
   "execution_count": 9,
   "metadata": {},
   "outputs": [
    {
     "data": {
      "image/png": "[encoded data removed]",
      "text/plain": [
       "<Figure size 864x576 with 1 Axes>"
      ]
     },
     "metadata": {},
     "output_type": "display_data"
    }
   ],
   "source": [
    "k = pd.concat(km_list, axis=1).T[['clusters','inertia']]\n",
    "\n",
    "# Visualize\n",
    "fig, ax = plt.subplots(figsize=(12, 8))\n",
    "fig.patch.set_facecolor('white')\n",
    "\n",
    "plt.plot(k['clusters'], k['inertia'], 'bo-')\n",
    "\n",
    "# Remove ticks\n",
    "ax.xaxis.set_ticks_position('none')\n",
    "ax.yaxis.set_ticks_position('none')\n",
    "\n",
    "# Remove axes splines\n",
    "for i in ['top','right']:\n",
    "    ax.spines[i].set_visible(False)\n",
    "\n",
    "ax.set_xticks(range(0, 30, 2))\n",
    "ax.set(xlabel='Cluster', ylabel='Inertia')\n",
    "\n",
    "plt.suptitle('The Elbow Method: Optimal Number of Clusters', size=26)\n",
    "plt.show()"
   ]
  },
  {
   "cell_type": "markdown",
   "metadata": {},
   "source": [
    "13 is enough"
   ]
  },
  {
   "cell_type": "code",
   "execution_count": 10,
   "metadata": {},
   "outputs": [],
   "source": [
    "kmeans = KMeans(n_clusters=13, max_iter=300, n_init=10, random_state=59)\n",
    "kmeans.fit(X_train_st)\n",
    "\n",
    "predicted_clusters_train = kmeans.predict(X_train_st)\n",
    "X_train_st = np.column_stack((X_train_st, predicted_clusters_train))\n",
    "\n",
    "predicted_clusters_val = kmeans.predict(X_val_st)\n",
    "X_val_st = np.column_stack((X_val_st, predicted_clusters_val))"
   ]
  },
  {
   "cell_type": "code",
   "execution_count": 11,
   "metadata": {},
   "outputs": [],
   "source": [
    "svm = SVC()\n",
    "svm.fit(X_train_st, y_train)\n",
    "y_pred = svm.predict(X_val_st)"
   ]
  },
  {
   "cell_type": "code",
   "execution_count": 12,
   "metadata": {},
   "outputs": [
    {
     "name": "stdout",
     "output_type": "stream",
     "text": [
      "              precision    recall  f1-score   support\n",
      "\n",
      "           0       0.80      0.87      0.83       121\n",
      "           1       0.85      0.78      0.82       119\n",
      "\n",
      "    accuracy                           0.82       240\n",
      "   macro avg       0.83      0.82      0.82       240\n",
      "weighted avg       0.83      0.82      0.82       240\n",
      "\n",
      "F1 Score 0.8157894736842106\n"
     ]
    }
   ],
   "source": [
    "from sklearn.metrics import classification_report, f1_score\n",
    "\n",
    "print(classification_report(y_val, y_pred))\n",
    "print('F1 Score', f1_score(y_val, y_pred))"
   ]
  },
  {
   "cell_type": "markdown",
   "metadata": {},
   "source": [
    "F1 Score = 0.82"
   ]
  },
  {
   "cell_type": "markdown",
   "metadata": {},
   "source": [
    "Now we will try something more sophisticated like SMOTE (for oversampling instead of undersampling)"
   ]
  }
 ],
 "metadata": {
  "interpreter": {
   "hash": "e92dda350e586b0c334f0f5e12c30469449e88a6ff79a1f1c33a5faa01dbdb98"
  },
  "kernelspec": {
   "display_name": "Python 3.10.0 64-bit",
   "language": "python",
   "name": "python3"
  },
  "language_info": {
   "codemirror_mode": {
    "name": "ipython",
    "version": 3
   },
   "file_extension": ".py",
   "mimetype": "text/x-python",
   "name": "python",
   "nbconvert_exporter": "python",
   "pygments_lexer": "ipython3",
   "version": "3.10.0"
  },
  "orig_nbformat": 4
 },
 "nbformat": 4,
 "nbformat_minor": 2
}
